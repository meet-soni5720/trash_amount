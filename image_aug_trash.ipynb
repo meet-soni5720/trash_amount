{
 "cells": [
  {
   "cell_type": "code",
   "execution_count": 32,
   "id": "understanding-persian",
   "metadata": {},
   "outputs": [],
   "source": [
    "import os.path\n",
    "import cv2\n",
    "import numpy as np\n",
    "import random"
   ]
  },
  {
   "cell_type": "code",
   "execution_count": 34,
   "id": "excessive-netscape",
   "metadata": {},
   "outputs": [],
   "source": [
    "def fill(img, h, w):\n",
    "    img = cv2.resize(img, (h, w), cv2.INTER_CUBIC)\n",
    "    return img\n",
    "\n",
    "def zoom(img, value):\n",
    "    if value > 1 or value < 0:\n",
    "        print('Value for zoom should be less than 1 and greater than 0')\n",
    "        return img\n",
    "    value = random.uniform(value, 1)\n",
    "    h, w = img.shape[:2]\n",
    "    h_taken = int(value*h)\n",
    "    w_taken = int(value*w)\n",
    "    h_start = random.randint(0, h-h_taken)\n",
    "    w_start = random.randint(0, w-w_taken)\n",
    "    img = img[h_start:h_start+h_taken, w_start:w_start+w_taken, :]\n",
    "    img = fill(img, h, w)\n",
    "    return img"
   ]
  },
  {
   "cell_type": "code",
   "execution_count": 3,
   "id": "bronze-wayne",
   "metadata": {},
   "outputs": [],
   "source": [
    "def brightness(img, value):\n",
    "    hsv = cv2.cvtColor(img, cv2.COLOR_RGB2HSV)\n",
    "    \n",
    "    h, s, v = cv2.split(hsv)\n",
    "    if(value > 0):\n",
    "        lim = 255 - value\n",
    "        v[v > lim] = 255\n",
    "        v[v <= lim] += value\n",
    "    if(value < 0):\n",
    "        v[v < abs(value)] = 0\n",
    "        v[v >= abs(value)] -= abs(value)\n",
    "        \n",
    "    hsv = cv2.merge((h, s, v))\n",
    "    img = cv2.cvtColor(hsv, cv2.COLOR_HSV2RGB)\n",
    "    return img"
   ]
  },
  {
   "cell_type": "code",
   "execution_count": 4,
   "id": "potential-counter",
   "metadata": {},
   "outputs": [],
   "source": [
    "def horizontal_shift(img, ratio=0.0):\n",
    "    if ratio > 1 or ratio < 0:\n",
    "        print('Value should be less than 1 and greater than 0')\n",
    "        return img\n",
    "    ratio = random.uniform(-ratio, ratio)\n",
    "    h, w = img.shape[:2]\n",
    "    to_shift = w*ratio\n",
    "    if ratio > 0:\n",
    "        img = img[:, :int(w-to_shift), :]\n",
    "    if ratio < 0:\n",
    "        img = img[:, int(-1*to_shift):, :]\n",
    "    img = fill(img, h, w)\n",
    "    return img"
   ]
  },
  {
   "cell_type": "code",
   "execution_count": 6,
   "id": "normal-sharp",
   "metadata": {},
   "outputs": [],
   "source": [
    "def vertical_shift(img, ratio=0.0):\n",
    "    if ratio > 1 or ratio < 0:\n",
    "        print('Value should be less than 1 and greater than 0')\n",
    "        return img\n",
    "    ratio = random.uniform(-ratio, ratio)\n",
    "    h, w = img.shape[:2]\n",
    "    to_shift = h*ratio\n",
    "    if ratio > 0:\n",
    "        img = img[:int(h-to_shift), :, :]\n",
    "    if ratio < 0:\n",
    "        img = img[int(-1*to_shift):, :, :]\n",
    "    img = fill(img, h, w)\n",
    "    return img"
   ]
  },
  {
   "cell_type": "code",
   "execution_count": 14,
   "id": "difficult-cursor",
   "metadata": {},
   "outputs": [],
   "source": [
    "base_path = \"D:/Downloads/how much trash_updated/how much trash_updated\"\n",
    "saving_path = \"D:/Downloads/how much trash_updated/Augmented\""
   ]
  },
  {
   "cell_type": "code",
   "execution_count": 23,
   "id": "white-homeless",
   "metadata": {},
   "outputs": [
    {
     "name": "stdout",
     "output_type": "stream",
     "text": [
      "[WinError 183] Cannot create a file when that file already exists: 'D:/Downloads/how much trash_updated/Augmented\\\\low'\n",
      "[WinError 183] Cannot create a file when that file already exists: 'D:/Downloads/how much trash_updated/Augmented\\\\medium'\n",
      "[WinError 183] Cannot create a file when that file already exists: 'D:/Downloads/how much trash_updated/Augmented\\\\high'\n"
     ]
    }
   ],
   "source": [
    "categories = ['low', 'medium', 'high']\n",
    "for i in categories:\n",
    "    counter = 0\n",
    "    category_path = os.path.join(base_path, i)\n",
    "    try:\n",
    "        os.mkdir(os.path.join(saving_path, i))\n",
    "    except Exception as e:\n",
    "        print(e)\n",
    "        pass\n",
    "\n",
    "    for j in os.listdir(category_path):\n",
    "        image = cv2.imread(os.path.join(category_path, j))\n",
    "        #image = cv2.cvtColor(image, cv2.COLOR_BGR2RGB)\n",
    "        image = cv2.resize(image, (250, 250), interpolation = cv2.INTER_CUBIC)\n",
    "        cv2.imwrite(os.path.join(saving_path, i, str(counter) + '.jpg'), image)\n",
    "        counter += 1"
   ]
  },
  {
   "cell_type": "code",
   "execution_count": 30,
   "id": "artistic-duration",
   "metadata": {},
   "outputs": [],
   "source": [
    "category = 'high'\n",
    "category_path = os.path.join(base_path, category)\n",
    "# print(category_path)\n",
    "for i in os.listdir(category_path):\n",
    "    image = cv2.imread(os.path.join(category_path, i))\n",
    "    image = cv2.resize(image, (250, 250), interpolation = cv2.INTER_CUBIC)\n",
    "    bright_image = brightness(image, -30)\n",
    "    image_name = i.split('.')[0]\n",
    "    image_name += '_dark'\n",
    "    cv2.imwrite(os.path.join(saving_path, category, image_name + '.jpg'), bright_image)"
   ]
  },
  {
   "cell_type": "code",
   "execution_count": 37,
   "id": "surprising-strip",
   "metadata": {},
   "outputs": [],
   "source": [
    "number = 100\n",
    "category = 'medium'\n",
    "category_path = os.path.join(base_path, category)\n",
    "for i in os.listdir(category_path):\n",
    "    image = cv2.imread(os.path.join(category_path, i))\n",
    "    image = cv2.resize(image, (250, 250), interpolation = cv2.INTER_CUBIC)\n",
    "    hor = horizontal_shift(image, 0.7)\n",
    "    ver = vertical_shift(hor, 0.7)\n",
    "    zoomed = zoom(ver, 0.5)\n",
    "    image_name = i.split('.')[0]\n",
    "    image_name += '_mixed'\n",
    "    cv2.imwrite(os.path.join(saving_path, category, image_name + '.jpg'), zoomed)\n",
    "    number -= 1\n",
    "    if(number == 0):\n",
    "        break"
   ]
  },
  {
   "cell_type": "code",
   "execution_count": 39,
   "id": "legendary-outline",
   "metadata": {},
   "outputs": [],
   "source": [
    "number = 44\n",
    "category = 'high'\n",
    "category_path = os.path.join(base_path, category)\n",
    "for i in os.listdir(category_path):\n",
    "    image = cv2.imread(os.path.join(category_path, i))\n",
    "    image = cv2.resize(image, (250, 250), interpolation = cv2.INTER_CUBIC)\n",
    "    hor = horizontal_shift(image, 0.7)\n",
    "#     zoomed = zoom(image, 0.5)\n",
    "    image_name = i.split('.')[0]\n",
    "    image_name += '_shift'\n",
    "    cv2.imwrite(os.path.join(saving_path, category, image_name + '.jpg'), hor)\n",
    "    number -= 1\n",
    "    if(number == 0):\n",
    "        break"
   ]
  },
  {
   "cell_type": "code",
   "execution_count": null,
   "id": "worse-lodging",
   "metadata": {},
   "outputs": [],
   "source": []
  }
 ],
 "metadata": {
  "kernelspec": {
   "display_name": "Python 3",
   "language": "python",
   "name": "python3"
  },
  "language_info": {
   "codemirror_mode": {
    "name": "ipython",
    "version": 3
   },
   "file_extension": ".py",
   "mimetype": "text/x-python",
   "name": "python",
   "nbconvert_exporter": "python",
   "pygments_lexer": "ipython3",
   "version": "3.7.0"
  }
 },
 "nbformat": 4,
 "nbformat_minor": 5
}
